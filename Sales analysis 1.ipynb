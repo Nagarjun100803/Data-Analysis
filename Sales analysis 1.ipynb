{
 "cells": [
  {
   "cell_type": "code",
   "execution_count": 1,
   "id": "e2ca476d",
   "metadata": {},
   "outputs": [],
   "source": [
    "from pandas import *\n",
    "from matplotlib import pyplot as plt\n",
    "from os import listdir"
   ]
  },
  {
   "cell_type": "code",
   "execution_count": 2,
   "id": "7d47849f",
   "metadata": {},
   "outputs": [],
   "source": [
    "files = [file for file in listdir(r\"C:\\Users\\HP\\Desktop\\sales\")]"
   ]
  },
  {
   "cell_type": "code",
   "execution_count": 3,
   "id": "ec7cc434",
   "metadata": {
    "scrolled": true
   },
   "outputs": [
    {
     "name": "stdout",
     "output_type": "stream",
     "text": [
      "C:/Users/HP/Desktop/sales/Sales_April_2019.csv\n"
     ]
    }
   ],
   "source": [
    "for file in files:\n",
    "    print(r\"C:/Users/HP/Desktop/sales/\"+file)\n",
    "    break"
   ]
  },
  {
   "cell_type": "code",
   "execution_count": 4,
   "id": "61e4d410",
   "metadata": {},
   "outputs": [],
   "source": [
    "df = DataFrame()\n",
    "for file in files:\n",
    "    sample = read_csv(r\"C:/Users/HP/Desktop/sales/\"+file)\n",
    "    df = concat([df,sample],ignore_index=True)\n",
    "    "
   ]
  },
  {
   "cell_type": "code",
   "execution_count": 5,
   "id": "41d89654",
   "metadata": {
    "scrolled": true
   },
   "outputs": [
    {
     "data": {
      "text/plain": [
       "(186850, 6)"
      ]
     },
     "execution_count": 5,
     "metadata": {},
     "output_type": "execute_result"
    }
   ],
   "source": [
    "df.shape"
   ]
  },
  {
   "cell_type": "code",
   "execution_count": 6,
   "id": "307211d5",
   "metadata": {},
   "outputs": [
    {
     "data": {
      "text/html": [
       "<div>\n",
       "<style scoped>\n",
       "    .dataframe tbody tr th:only-of-type {\n",
       "        vertical-align: middle;\n",
       "    }\n",
       "\n",
       "    .dataframe tbody tr th {\n",
       "        vertical-align: top;\n",
       "    }\n",
       "\n",
       "    .dataframe thead th {\n",
       "        text-align: right;\n",
       "    }\n",
       "</style>\n",
       "<table border=\"1\" class=\"dataframe\">\n",
       "  <thead>\n",
       "    <tr style=\"text-align: right;\">\n",
       "      <th></th>\n",
       "      <th>Order ID</th>\n",
       "      <th>Product</th>\n",
       "      <th>Quantity Ordered</th>\n",
       "      <th>Price Each</th>\n",
       "      <th>Order Date</th>\n",
       "      <th>Purchase Address</th>\n",
       "    </tr>\n",
       "  </thead>\n",
       "  <tbody>\n",
       "    <tr>\n",
       "      <th>0</th>\n",
       "      <td>176558</td>\n",
       "      <td>USB-C Charging Cable</td>\n",
       "      <td>2</td>\n",
       "      <td>11.95</td>\n",
       "      <td>04/19/19 08:46</td>\n",
       "      <td>917 1st St, Dallas, TX 75001</td>\n",
       "    </tr>\n",
       "    <tr>\n",
       "      <th>1</th>\n",
       "      <td>NaN</td>\n",
       "      <td>NaN</td>\n",
       "      <td>NaN</td>\n",
       "      <td>NaN</td>\n",
       "      <td>NaN</td>\n",
       "      <td>NaN</td>\n",
       "    </tr>\n",
       "    <tr>\n",
       "      <th>2</th>\n",
       "      <td>176559</td>\n",
       "      <td>Bose SoundSport Headphones</td>\n",
       "      <td>1</td>\n",
       "      <td>99.99</td>\n",
       "      <td>04/07/19 22:30</td>\n",
       "      <td>682 Chestnut St, Boston, MA 02215</td>\n",
       "    </tr>\n",
       "    <tr>\n",
       "      <th>3</th>\n",
       "      <td>176560</td>\n",
       "      <td>Google Phone</td>\n",
       "      <td>1</td>\n",
       "      <td>600</td>\n",
       "      <td>04/12/19 14:38</td>\n",
       "      <td>669 Spruce St, Los Angeles, CA 90001</td>\n",
       "    </tr>\n",
       "    <tr>\n",
       "      <th>4</th>\n",
       "      <td>176560</td>\n",
       "      <td>Wired Headphones</td>\n",
       "      <td>1</td>\n",
       "      <td>11.99</td>\n",
       "      <td>04/12/19 14:38</td>\n",
       "      <td>669 Spruce St, Los Angeles, CA 90001</td>\n",
       "    </tr>\n",
       "  </tbody>\n",
       "</table>\n",
       "</div>"
      ],
      "text/plain": [
       "  Order ID                     Product Quantity Ordered Price Each  \\\n",
       "0   176558        USB-C Charging Cable                2      11.95   \n",
       "1      NaN                         NaN              NaN        NaN   \n",
       "2   176559  Bose SoundSport Headphones                1      99.99   \n",
       "3   176560                Google Phone                1        600   \n",
       "4   176560            Wired Headphones                1      11.99   \n",
       "\n",
       "       Order Date                      Purchase Address  \n",
       "0  04/19/19 08:46          917 1st St, Dallas, TX 75001  \n",
       "1             NaN                                   NaN  \n",
       "2  04/07/19 22:30     682 Chestnut St, Boston, MA 02215  \n",
       "3  04/12/19 14:38  669 Spruce St, Los Angeles, CA 90001  \n",
       "4  04/12/19 14:38  669 Spruce St, Los Angeles, CA 90001  "
      ]
     },
     "execution_count": 6,
     "metadata": {},
     "output_type": "execute_result"
    }
   ],
   "source": [
    "df.head()"
   ]
  },
  {
   "cell_type": "code",
   "execution_count": 7,
   "id": "3119c003",
   "metadata": {},
   "outputs": [],
   "source": [
    "df = df.dropna(how=\"all\")"
   ]
  },
  {
   "cell_type": "code",
   "execution_count": 8,
   "id": "2591e407",
   "metadata": {},
   "outputs": [
    {
     "data": {
      "text/plain": [
       "(186305, 6)"
      ]
     },
     "execution_count": 8,
     "metadata": {},
     "output_type": "execute_result"
    }
   ],
   "source": [
    "df.shape"
   ]
  },
  {
   "cell_type": "code",
   "execution_count": 9,
   "id": "e36df3b9",
   "metadata": {},
   "outputs": [
    {
     "data": {
      "text/plain": [
       "Order ID            0\n",
       "Product             0\n",
       "Quantity Ordered    0\n",
       "Price Each          0\n",
       "Order Date          0\n",
       "Purchase Address    0\n",
       "dtype: int64"
      ]
     },
     "execution_count": 9,
     "metadata": {},
     "output_type": "execute_result"
    }
   ],
   "source": [
    "df.isna().sum()"
   ]
  },
  {
   "cell_type": "code",
   "execution_count": 10,
   "id": "b8e51e72",
   "metadata": {},
   "outputs": [
    {
     "data": {
      "text/html": [
       "<div>\n",
       "<style scoped>\n",
       "    .dataframe tbody tr th:only-of-type {\n",
       "        vertical-align: middle;\n",
       "    }\n",
       "\n",
       "    .dataframe tbody tr th {\n",
       "        vertical-align: top;\n",
       "    }\n",
       "\n",
       "    .dataframe thead th {\n",
       "        text-align: right;\n",
       "    }\n",
       "</style>\n",
       "<table border=\"1\" class=\"dataframe\">\n",
       "  <thead>\n",
       "    <tr style=\"text-align: right;\">\n",
       "      <th></th>\n",
       "      <th>Order ID</th>\n",
       "      <th>Product</th>\n",
       "      <th>Quantity Ordered</th>\n",
       "      <th>Price Each</th>\n",
       "      <th>Order Date</th>\n",
       "      <th>Purchase Address</th>\n",
       "    </tr>\n",
       "  </thead>\n",
       "  <tbody>\n",
       "    <tr>\n",
       "      <th>0</th>\n",
       "      <td>176558</td>\n",
       "      <td>USB-C Charging Cable</td>\n",
       "      <td>2</td>\n",
       "      <td>11.95</td>\n",
       "      <td>04/19/19 08:46</td>\n",
       "      <td>917 1st St, Dallas, TX 75001</td>\n",
       "    </tr>\n",
       "    <tr>\n",
       "      <th>2</th>\n",
       "      <td>176559</td>\n",
       "      <td>Bose SoundSport Headphones</td>\n",
       "      <td>1</td>\n",
       "      <td>99.99</td>\n",
       "      <td>04/07/19 22:30</td>\n",
       "      <td>682 Chestnut St, Boston, MA 02215</td>\n",
       "    </tr>\n",
       "    <tr>\n",
       "      <th>3</th>\n",
       "      <td>176560</td>\n",
       "      <td>Google Phone</td>\n",
       "      <td>1</td>\n",
       "      <td>600</td>\n",
       "      <td>04/12/19 14:38</td>\n",
       "      <td>669 Spruce St, Los Angeles, CA 90001</td>\n",
       "    </tr>\n",
       "    <tr>\n",
       "      <th>4</th>\n",
       "      <td>176560</td>\n",
       "      <td>Wired Headphones</td>\n",
       "      <td>1</td>\n",
       "      <td>11.99</td>\n",
       "      <td>04/12/19 14:38</td>\n",
       "      <td>669 Spruce St, Los Angeles, CA 90001</td>\n",
       "    </tr>\n",
       "    <tr>\n",
       "      <th>5</th>\n",
       "      <td>176561</td>\n",
       "      <td>Wired Headphones</td>\n",
       "      <td>1</td>\n",
       "      <td>11.99</td>\n",
       "      <td>04/30/19 09:27</td>\n",
       "      <td>333 8th St, Los Angeles, CA 90001</td>\n",
       "    </tr>\n",
       "  </tbody>\n",
       "</table>\n",
       "</div>"
      ],
      "text/plain": [
       "  Order ID                     Product Quantity Ordered Price Each  \\\n",
       "0   176558        USB-C Charging Cable                2      11.95   \n",
       "2   176559  Bose SoundSport Headphones                1      99.99   \n",
       "3   176560                Google Phone                1        600   \n",
       "4   176560            Wired Headphones                1      11.99   \n",
       "5   176561            Wired Headphones                1      11.99   \n",
       "\n",
       "       Order Date                      Purchase Address  \n",
       "0  04/19/19 08:46          917 1st St, Dallas, TX 75001  \n",
       "2  04/07/19 22:30     682 Chestnut St, Boston, MA 02215  \n",
       "3  04/12/19 14:38  669 Spruce St, Los Angeles, CA 90001  \n",
       "4  04/12/19 14:38  669 Spruce St, Los Angeles, CA 90001  \n",
       "5  04/30/19 09:27     333 8th St, Los Angeles, CA 90001  "
      ]
     },
     "execution_count": 10,
     "metadata": {},
     "output_type": "execute_result"
    }
   ],
   "source": [
    "df.head()"
   ]
  },
  {
   "cell_type": "markdown",
   "id": "b8e8d9e4",
   "metadata": {},
   "source": [
    "##### lets create a new column called month"
   ]
  },
  {
   "cell_type": "code",
   "execution_count": 11,
   "id": "eae2fff0",
   "metadata": {},
   "outputs": [],
   "source": [
    "df[\"Month\"] = df[\"Order Date\"].apply(lambda x : x[:2])"
   ]
  },
  {
   "cell_type": "code",
   "execution_count": 12,
   "id": "9eb7a2ec",
   "metadata": {},
   "outputs": [
    {
     "data": {
      "text/plain": [
       "array(['04', '05', 'Or', '08', '09', '12', '01', '02', '03', '07', '06',\n",
       "       '11', '10'], dtype=object)"
      ]
     },
     "execution_count": 12,
     "metadata": {},
     "output_type": "execute_result"
    }
   ],
   "source": [
    "df[\"Month\"].unique()"
   ]
  },
  {
   "cell_type": "code",
   "execution_count": 13,
   "id": "5c46a191",
   "metadata": {},
   "outputs": [],
   "source": [
    "filt = df[\"Month\"] == \"Or\"\n",
    "items = df.loc[filt].index\n",
    "df = df.drop(items)"
   ]
  },
  {
   "cell_type": "code",
   "execution_count": 14,
   "id": "ee9606fe",
   "metadata": {},
   "outputs": [
    {
     "data": {
      "text/plain": [
       "array(['04', '05', '08', '09', '12', '01', '02', '03', '07', '06', '11',\n",
       "       '10'], dtype=object)"
      ]
     },
     "execution_count": 14,
     "metadata": {},
     "output_type": "execute_result"
    }
   ],
   "source": [
    "df[\"Month\"].unique()"
   ]
  },
  {
   "cell_type": "code",
   "execution_count": 15,
   "id": "38b3e922",
   "metadata": {},
   "outputs": [],
   "source": [
    "months = {\"01\":\"Jan\",\"02\":\"Feb\",\"03\":\"Mar\",\"04\":\"Apr\",\"05\":\"May\",\"06\":\"Jun\",\"07\":\"Jul\",\"08\":\"Aug\"\n",
    "         ,\"09\":\"Sep\",\"10\":\"Oct\",\"11\":\"Nov\",\"12\":\"Dec\"}"
   ]
  },
  {
   "cell_type": "code",
   "execution_count": 16,
   "id": "136db0a5",
   "metadata": {},
   "outputs": [],
   "source": [
    "df[\"Months\"] = df[\"Month\"].apply(lambda x :months[x])"
   ]
  },
  {
   "cell_type": "code",
   "execution_count": 17,
   "id": "573e137f",
   "metadata": {},
   "outputs": [],
   "source": [
    "df = df.sort_values(by=[\"Month\"])"
   ]
  },
  {
   "cell_type": "code",
   "execution_count": 18,
   "id": "6e653593",
   "metadata": {},
   "outputs": [],
   "source": [
    "df.index = range(1,len(df.index)+1)"
   ]
  },
  {
   "cell_type": "markdown",
   "id": "280f180d",
   "metadata": {},
   "source": [
    "##  1,Best Month Sales"
   ]
  },
  {
   "cell_type": "code",
   "execution_count": 19,
   "id": "cab0acba",
   "metadata": {},
   "outputs": [
    {
     "data": {
      "text/plain": [
       "Index(['Order ID', 'Product', 'Quantity Ordered', 'Price Each', 'Order Date',\n",
       "       'Purchase Address', 'Month', 'Months'],\n",
       "      dtype='object')"
      ]
     },
     "execution_count": 19,
     "metadata": {},
     "output_type": "execute_result"
    }
   ],
   "source": [
    "df.columns"
   ]
  },
  {
   "cell_type": "code",
   "execution_count": 20,
   "id": "9c55cc70",
   "metadata": {},
   "outputs": [],
   "source": [
    "df[\"Quantity Ordered\"] = df[\"Quantity Ordered\"].astype(\"int64\")\n",
    "df[\"Price Each\"] = df[\"Price Each\"].astype(\"float64\")"
   ]
  },
  {
   "cell_type": "code",
   "execution_count": 21,
   "id": "1d8a5159",
   "metadata": {},
   "outputs": [],
   "source": [
    "df[\"Profit\"] = df[\"Price Each\"] * df[\"Quantity Ordered\"]"
   ]
  },
  {
   "cell_type": "code",
   "execution_count": 22,
   "id": "496f4fe9",
   "metadata": {},
   "outputs": [
    {
     "data": {
      "text/plain": [
       "1           2.99\n",
       "2         150.00\n",
       "3         389.99\n",
       "4          14.95\n",
       "5         300.00\n",
       "           ...  \n",
       "185946    149.99\n",
       "185947      2.99\n",
       "185948     11.99\n",
       "185949     11.95\n",
       "185950     14.95\n",
       "Name: Profit, Length: 185950, dtype: float64"
      ]
     },
     "execution_count": 22,
     "metadata": {},
     "output_type": "execute_result"
    }
   ],
   "source": [
    "df[\"Profit\"]"
   ]
  },
  {
   "cell_type": "code",
   "execution_count": 23,
   "id": "f3ada892",
   "metadata": {},
   "outputs": [],
   "source": [
    "monthly_sales = df.groupby(\"Month\")[\"Profit\"].sum()"
   ]
  },
  {
   "cell_type": "code",
   "execution_count": 24,
   "id": "8889acad",
   "metadata": {},
   "outputs": [
    {
     "data": {
      "image/png": "[encoded data removed]",
      "text/plain": [
       "<Figure size 864x432 with 1 Axes>"
      ]
     },
     "metadata": {
      "needs_background": "light"
     },
     "output_type": "display_data"
    }
   ],
   "source": [
    "plt.style.use(\"seaborn-pastel\")\n",
    "plt.figure(figsize=(12,6))\n",
    "plt.xlabel(\"Month\")\n",
    "plt.ylabel(\"Profit\")\n",
    "plt.title(\"Monthly Profit\")\n",
    "plt.bar([months[x] for x in monthly_sales.index],monthly_sales.values,log=True)\n",
    "plt.plot([months[x] for x in monthly_sales.index],monthly_sales.values,lw=2,ls=\"--\",c=\"r\")\n",
    "plt.tight_layout()\n",
    "plt.show()"
   ]
  },
  {
   "cell_type": "markdown",
   "id": "d05ac176",
   "metadata": {},
   "source": [
    "# Which city has the highest sales"
   ]
  },
  {
   "cell_type": "markdown",
   "id": "271e2f57",
   "metadata": {},
   "source": [
    "## Creating a new column City"
   ]
  },
  {
   "cell_type": "code",
   "execution_count": 25,
   "id": "5a13a55e",
   "metadata": {},
   "outputs": [],
   "source": [
    "a = '532 River St, San Francisco, CA 94016'"
   ]
  },
  {
   "cell_type": "code",
   "execution_count": 26,
   "id": "cac2bf09",
   "metadata": {},
   "outputs": [
    {
     "data": {
      "text/plain": [
       "' San Francisco CA'"
      ]
     },
     "execution_count": 26,
     "metadata": {},
     "output_type": "execute_result"
    }
   ],
   "source": [
    "a.split(\",\")[1]+a.split(\",\")[2][:3]"
   ]
  },
  {
   "cell_type": "code",
   "execution_count": 27,
   "id": "a6535b0c",
   "metadata": {},
   "outputs": [],
   "source": [
    "df[\"City\"] = df[\"Purchase Address\"].apply(lambda x:(x.split(\",\")[1]+x.split(\",\")[2][:3]))"
   ]
  },
  {
   "cell_type": "code",
   "execution_count": 28,
   "id": "6d88e69b",
   "metadata": {},
   "outputs": [],
   "source": [
    "citygrp = df.groupby(\"City\")[\"Profit\"].sum().sort_values(ascending=False)"
   ]
  },
  {
   "cell_type": "code",
   "execution_count": 29,
   "id": "7886bf27",
   "metadata": {},
   "outputs": [
    {
     "data": {
      "text/plain": [
       "City\n",
       " San Francisco CA    8262203.91\n",
       " Los Angeles CA      5452570.80\n",
       " New York City NY    4664317.43\n",
       " Boston MA           3661642.01\n",
       " Atlanta GA          2795498.58\n",
       " Dallas TX           2767975.40\n",
       " Seattle WA          2747755.48\n",
       " Portland OR         1870732.34\n",
       " Austin TX           1819581.75\n",
       " Portland ME          449758.27\n",
       "Name: Profit, dtype: float64"
      ]
     },
     "execution_count": 29,
     "metadata": {},
     "output_type": "execute_result"
    }
   ],
   "source": [
    "citygrp"
   ]
  },
  {
   "cell_type": "code",
   "execution_count": 30,
   "id": "0096f2d7",
   "metadata": {},
   "outputs": [
    {
     "data": {
      "image/png": "[encoded data removed]",
      "text/plain": [
       "<Figure size 864x432 with 1 Axes>"
      ]
     },
     "metadata": {},
     "output_type": "display_data"
    }
   ],
   "source": [
    "values = [value for value in citygrp]\n",
    "cities = [city for city in citygrp.index]\n",
    "cities.reverse()\n",
    "values.reverse()\n",
    "plt.style.use(\"seaborn\")\n",
    "plt.figure(figsize=(12,6))\n",
    "plt.barh(cities,values,label=\"Profit\",log=True)\n",
    "plt.title(\"City Wise Profit\")\n",
    "plt.xlabel(\"Profit\")\n",
    "plt.ylabel(\"Cities\")\n",
    "plt.tight_layout()\n",
    "plt.legend(loc=\"lower right\")\n",
    "plt.show()"
   ]
  },
  {
   "cell_type": "markdown",
   "id": "09ba8412",
   "metadata": {},
   "source": [
    "## 3, Which product sold the most and why"
   ]
  },
  {
   "cell_type": "code",
   "execution_count": 31,
   "id": "cf00b730",
   "metadata": {},
   "outputs": [
    {
     "data": {
      "text/plain": [
       "Index(['Order ID', 'Product', 'Quantity Ordered', 'Price Each', 'Order Date',\n",
       "       'Purchase Address', 'Month', 'Months', 'Profit', 'City'],\n",
       "      dtype='object')"
      ]
     },
     "execution_count": 31,
     "metadata": {},
     "output_type": "execute_result"
    }
   ],
   "source": [
    "df.columns"
   ]
  },
  {
   "cell_type": "code",
   "execution_count": 32,
   "id": "95961dc8",
   "metadata": {},
   "outputs": [],
   "source": [
    "product_grp = df.groupby([\"Product\"])[\"Quantity Ordered\"].sum()"
   ]
  },
  {
   "cell_type": "code",
   "execution_count": 33,
   "id": "05f84eda",
   "metadata": {},
   "outputs": [
    {
     "data": {
      "text/plain": [
       "Product\n",
       "20in Monitor                   4129\n",
       "27in 4K Gaming Monitor         6244\n",
       "27in FHD Monitor               7550\n",
       "34in Ultrawide Monitor         6199\n",
       "AA Batteries (4-pack)         27635\n",
       "AAA Batteries (4-pack)        31017\n",
       "Apple Airpods Headphones      15661\n",
       "Bose SoundSport Headphones    13457\n",
       "Flatscreen TV                  4819\n",
       "Google Phone                   5532\n",
       "LG Dryer                        646\n",
       "LG Washing Machine              666\n",
       "Lightning Charging Cable      23217\n",
       "Macbook Pro Laptop             4728\n",
       "ThinkPad Laptop                4130\n",
       "USB-C Charging Cable          23975\n",
       "Vareebadd Phone                2068\n",
       "Wired Headphones              20557\n",
       "iPhone                         6849\n",
       "Name: Quantity Ordered, dtype: int64"
      ]
     },
     "execution_count": 33,
     "metadata": {},
     "output_type": "execute_result"
    }
   ],
   "source": [
    "product_grp"
   ]
  },
  {
   "cell_type": "code",
   "execution_count": 34,
   "id": "5759e8d9",
   "metadata": {},
   "outputs": [],
   "source": [
    "average_product_price_grp = df.groupby(\"Product\")[\"Price Each\"].mean()"
   ]
  },
  {
   "cell_type": "code",
   "execution_count": 35,
   "id": "7dd04b10",
   "metadata": {},
   "outputs": [
    {
     "data": {
      "text/plain": [
       "Product\n",
       "20in Monitor                   109.99\n",
       "27in 4K Gaming Monitor         389.99\n",
       "27in FHD Monitor               149.99\n",
       "34in Ultrawide Monitor         379.99\n",
       "AA Batteries (4-pack)            3.84\n",
       "AAA Batteries (4-pack)           2.99\n",
       "Apple Airpods Headphones       150.00\n",
       "Bose SoundSport Headphones      99.99\n",
       "Flatscreen TV                  300.00\n",
       "Google Phone                   600.00\n",
       "LG Dryer                       600.00\n",
       "LG Washing Machine             600.00\n",
       "Lightning Charging Cable        14.95\n",
       "Macbook Pro Laptop            1700.00\n",
       "ThinkPad Laptop                999.99\n",
       "USB-C Charging Cable            11.95\n",
       "Vareebadd Phone                400.00\n",
       "Wired Headphones                11.99\n",
       "iPhone                         700.00\n",
       "Name: Price Each, dtype: float64"
      ]
     },
     "execution_count": 35,
     "metadata": {},
     "output_type": "execute_result"
    }
   ],
   "source": [
    "average_product_price_grp"
   ]
  },
  {
   "cell_type": "code",
   "execution_count": 36,
   "id": "b3fb02e1",
   "metadata": {},
   "outputs": [
    {
     "data": {
      "image/png": "[encoded data removed]",
      "text/plain": [
       "<Figure size 864x432 with 1 Axes>"
      ]
     },
     "metadata": {},
     "output_type": "display_data"
    }
   ],
   "source": [
    "plt.figure(figsize=(12,6))\n",
    "plt.style.use(\"fivethirtyeight\")\n",
    "plt.bar(product_grp.index,product_grp.values)\n",
    "plt.xlabel(\"Products\")\n",
    "plt.ylabel(\"No of Products Sold\")\n",
    "plt.title(\"This year result\")\n",
    "plt.xticks(product_grp.index,rotation=90)\n",
    "plt.tight_layout()\n",
    "plt.show()"
   ]
  },
  {
   "cell_type": "code",
   "execution_count": 37,
   "id": "d11456c2",
   "metadata": {},
   "outputs": [
    {
     "name": "stderr",
     "output_type": "stream",
     "text": [
      "C:\\Users\\HP\\AppData\\Local\\Temp/ipykernel_6912/829132210.py:8: UserWarning: FixedFormatter should only be used together with FixedLocator\n",
      "  ax.set_xticklabels(product_grp.index,rotation=90)\n"
     ]
    },
    {
     "data": {
      "image/png": "[encoded data removed]",
      "text/plain": [
       "<Figure size 864x432 with 2 Axes>"
      ]
     },
     "metadata": {},
     "output_type": "display_data"
    }
   ],
   "source": [
    "fig,ax = plt.subplots(figsize=(12,6))\n",
    "ax2 = ax.twinx()\n",
    "ax.bar(product_grp.index,product_grp.values)\n",
    "ax2.plot(product_grp.index,average_product_price_grp.values,c=\"g\",lw=2)\n",
    "ax.set_xlabel(\"Products\")\n",
    "ax.set_ylabel(\"No of Products Sold\")\n",
    "ax2.set_ylabel(\"Average Price\")\n",
    "ax.set_xticklabels(product_grp.index,rotation=90)\n",
    "plt.tight_layout()\n",
    "plt.show()"
   ]
  },
  {
   "cell_type": "markdown",
   "id": "b0f99b73",
   "metadata": {},
   "source": [
    "## 4, What time is best for advertisement"
   ]
  },
  {
   "cell_type": "code",
   "execution_count": 38,
   "id": "022bd498",
   "metadata": {},
   "outputs": [
    {
     "name": "stdout",
     "output_type": "stream",
     "text": [
      "Wall time: 55.9 s\n"
     ]
    }
   ],
   "source": [
    "%%time\n",
    "df[\"Order Date\"] = to_datetime(df[\"Order Date\"])"
   ]
  },
  {
   "cell_type": "code",
   "execution_count": 39,
   "id": "478a8174",
   "metadata": {},
   "outputs": [
    {
     "data": {
      "text/plain": [
       "1        2019-01-01 21:01:00\n",
       "2        2019-01-11 14:22:00\n",
       "3        2019-01-31 19:57:00\n",
       "4        2019-01-13 12:00:00\n",
       "5        2019-01-21 14:37:00\n",
       "                 ...        \n",
       "185946   2019-12-06 18:05:00\n",
       "185947   2019-12-19 07:35:00\n",
       "185948   2019-12-21 21:06:00\n",
       "185949   2019-12-26 22:24:00\n",
       "185950   2019-12-11 13:25:00\n",
       "Name: Order Date, Length: 185950, dtype: datetime64[ns]"
      ]
     },
     "execution_count": 39,
     "metadata": {},
     "output_type": "execute_result"
    }
   ],
   "source": [
    "df[\"Order Date\"]"
   ]
  },
  {
   "cell_type": "code",
   "execution_count": 40,
   "id": "a720614a",
   "metadata": {},
   "outputs": [
    {
     "data": {
      "text/plain": [
       "<pandas.core.indexes.accessors.DatetimeProperties object at 0x000001FC665F3580>"
      ]
     },
     "execution_count": 40,
     "metadata": {},
     "output_type": "execute_result"
    }
   ],
   "source": [
    "df[\"Order Date\"].dt"
   ]
  },
  {
   "cell_type": "code",
   "execution_count": 41,
   "id": "93dae2fd",
   "metadata": {},
   "outputs": [],
   "source": [
    "df[\"Hour\"] = df[\"Order Date\"].dt.hour\n",
    "df[\"Minute\"] = df[\"Order Date\"].dt.minute"
   ]
  },
  {
   "cell_type": "code",
   "execution_count": 42,
   "id": "4508e853",
   "metadata": {},
   "outputs": [
    {
     "data": {
      "text/html": [
       "<div>\n",
       "<style scoped>\n",
       "    .dataframe tbody tr th:only-of-type {\n",
       "        vertical-align: middle;\n",
       "    }\n",
       "\n",
       "    .dataframe tbody tr th {\n",
       "        vertical-align: top;\n",
       "    }\n",
       "\n",
       "    .dataframe thead th {\n",
       "        text-align: right;\n",
       "    }\n",
       "</style>\n",
       "<table border=\"1\" class=\"dataframe\">\n",
       "  <thead>\n",
       "    <tr style=\"text-align: right;\">\n",
       "      <th></th>\n",
       "      <th>Order ID</th>\n",
       "      <th>Product</th>\n",
       "      <th>Quantity Ordered</th>\n",
       "      <th>Price Each</th>\n",
       "      <th>Order Date</th>\n",
       "      <th>Purchase Address</th>\n",
       "      <th>Month</th>\n",
       "      <th>Months</th>\n",
       "      <th>Profit</th>\n",
       "      <th>City</th>\n",
       "      <th>Hour</th>\n",
       "      <th>Minute</th>\n",
       "    </tr>\n",
       "  </thead>\n",
       "  <tbody>\n",
       "    <tr>\n",
       "      <th>1</th>\n",
       "      <td>142996</td>\n",
       "      <td>AAA Batteries (4-pack)</td>\n",
       "      <td>1</td>\n",
       "      <td>2.99</td>\n",
       "      <td>2019-01-01 21:01:00</td>\n",
       "      <td>402 Chestnut St, Boston, MA 02215</td>\n",
       "      <td>01</td>\n",
       "      <td>Jan</td>\n",
       "      <td>2.99</td>\n",
       "      <td>Boston MA</td>\n",
       "      <td>21</td>\n",
       "      <td>1</td>\n",
       "    </tr>\n",
       "    <tr>\n",
       "      <th>2</th>\n",
       "      <td>144300</td>\n",
       "      <td>Apple Airpods Headphones</td>\n",
       "      <td>1</td>\n",
       "      <td>150.00</td>\n",
       "      <td>2019-01-11 14:22:00</td>\n",
       "      <td>532 River St, San Francisco, CA 94016</td>\n",
       "      <td>01</td>\n",
       "      <td>Jan</td>\n",
       "      <td>150.00</td>\n",
       "      <td>San Francisco CA</td>\n",
       "      <td>14</td>\n",
       "      <td>22</td>\n",
       "    </tr>\n",
       "    <tr>\n",
       "      <th>3</th>\n",
       "      <td>144299</td>\n",
       "      <td>27in 4K Gaming Monitor</td>\n",
       "      <td>1</td>\n",
       "      <td>389.99</td>\n",
       "      <td>2019-01-31 19:57:00</td>\n",
       "      <td>942 North St, San Francisco, CA 94016</td>\n",
       "      <td>01</td>\n",
       "      <td>Jan</td>\n",
       "      <td>389.99</td>\n",
       "      <td>San Francisco CA</td>\n",
       "      <td>19</td>\n",
       "      <td>57</td>\n",
       "    </tr>\n",
       "    <tr>\n",
       "      <th>4</th>\n",
       "      <td>144298</td>\n",
       "      <td>Lightning Charging Cable</td>\n",
       "      <td>1</td>\n",
       "      <td>14.95</td>\n",
       "      <td>2019-01-13 12:00:00</td>\n",
       "      <td>709 North St, Los Angeles, CA 90001</td>\n",
       "      <td>01</td>\n",
       "      <td>Jan</td>\n",
       "      <td>14.95</td>\n",
       "      <td>Los Angeles CA</td>\n",
       "      <td>12</td>\n",
       "      <td>0</td>\n",
       "    </tr>\n",
       "    <tr>\n",
       "      <th>5</th>\n",
       "      <td>144297</td>\n",
       "      <td>Flatscreen TV</td>\n",
       "      <td>1</td>\n",
       "      <td>300.00</td>\n",
       "      <td>2019-01-21 14:37:00</td>\n",
       "      <td>437 Madison St, Atlanta, GA 30301</td>\n",
       "      <td>01</td>\n",
       "      <td>Jan</td>\n",
       "      <td>300.00</td>\n",
       "      <td>Atlanta GA</td>\n",
       "      <td>14</td>\n",
       "      <td>37</td>\n",
       "    </tr>\n",
       "  </tbody>\n",
       "</table>\n",
       "</div>"
      ],
      "text/plain": [
       "  Order ID                   Product  Quantity Ordered  Price Each  \\\n",
       "1   142996    AAA Batteries (4-pack)                 1        2.99   \n",
       "2   144300  Apple Airpods Headphones                 1      150.00   \n",
       "3   144299    27in 4K Gaming Monitor                 1      389.99   \n",
       "4   144298  Lightning Charging Cable                 1       14.95   \n",
       "5   144297             Flatscreen TV                 1      300.00   \n",
       "\n",
       "           Order Date                       Purchase Address Month Months  \\\n",
       "1 2019-01-01 21:01:00      402 Chestnut St, Boston, MA 02215    01    Jan   \n",
       "2 2019-01-11 14:22:00  532 River St, San Francisco, CA 94016    01    Jan   \n",
       "3 2019-01-31 19:57:00  942 North St, San Francisco, CA 94016    01    Jan   \n",
       "4 2019-01-13 12:00:00    709 North St, Los Angeles, CA 90001    01    Jan   \n",
       "5 2019-01-21 14:37:00      437 Madison St, Atlanta, GA 30301    01    Jan   \n",
       "\n",
       "   Profit               City  Hour  Minute  \n",
       "1    2.99          Boston MA    21       1  \n",
       "2  150.00   San Francisco CA    14      22  \n",
       "3  389.99   San Francisco CA    19      57  \n",
       "4   14.95     Los Angeles CA    12       0  \n",
       "5  300.00         Atlanta GA    14      37  "
      ]
     },
     "execution_count": 42,
     "metadata": {},
     "output_type": "execute_result"
    }
   ],
   "source": [
    "df.head()"
   ]
  },
  {
   "cell_type": "code",
   "execution_count": 43,
   "id": "27181872",
   "metadata": {},
   "outputs": [],
   "source": [
    "hour_grp = df.groupby(\"Hour\")['Product'].count()"
   ]
  },
  {
   "cell_type": "code",
   "execution_count": 44,
   "id": "bb9d04ef",
   "metadata": {},
   "outputs": [
    {
     "data": {
      "image/png": "[encoded data removed]",
      "text/plain": [
       "<Figure size 576x396 with 1 Axes>"
      ]
     },
     "metadata": {},
     "output_type": "display_data"
    }
   ],
   "source": [
    "plt.xlabel(\"Hour\")\n",
    "plt.ylabel(\"Product Ordered\")\n",
    "plt.title(\"Product Ordered in the time\")\n",
    "plt.plot(hour_grp.index,hour_grp.values)\n",
    "plt.xticks(hour_grp.index);"
   ]
  },
  {
   "cell_type": "markdown",
   "id": "f7b28c79",
   "metadata": {},
   "source": [
    "## 5, What product sold most together"
   ]
  },
  {
   "cell_type": "code",
   "execution_count": 45,
   "id": "725c3d8d",
   "metadata": {},
   "outputs": [],
   "source": [
    "filt = df[\"Order ID\"].duplicated(keep=False)\n",
    "df.loc[filt]\n",
    "df2 = df.loc[filt,[\"Order ID\",\"Product\"]]"
   ]
  },
  {
   "cell_type": "code",
   "execution_count": 46,
   "id": "5be0130e",
   "metadata": {},
   "outputs": [
    {
     "data": {
      "text/html": [
       "<div>\n",
       "<style scoped>\n",
       "    .dataframe tbody tr th:only-of-type {\n",
       "        vertical-align: middle;\n",
       "    }\n",
       "\n",
       "    .dataframe tbody tr th {\n",
       "        vertical-align: top;\n",
       "    }\n",
       "\n",
       "    .dataframe thead th {\n",
       "        text-align: right;\n",
       "    }\n",
       "</style>\n",
       "<table border=\"1\" class=\"dataframe\">\n",
       "  <thead>\n",
       "    <tr style=\"text-align: right;\">\n",
       "      <th></th>\n",
       "      <th>Order ID</th>\n",
       "      <th>Product</th>\n",
       "    </tr>\n",
       "  </thead>\n",
       "  <tbody>\n",
       "    <tr>\n",
       "      <th>69</th>\n",
       "      <td>144271</td>\n",
       "      <td>Lightning Charging Cable</td>\n",
       "    </tr>\n",
       "    <tr>\n",
       "      <th>70</th>\n",
       "      <td>144271</td>\n",
       "      <td>iPhone</td>\n",
       "    </tr>\n",
       "    <tr>\n",
       "      <th>130</th>\n",
       "      <td>144339</td>\n",
       "      <td>iPhone</td>\n",
       "    </tr>\n",
       "    <tr>\n",
       "      <th>132</th>\n",
       "      <td>144339</td>\n",
       "      <td>Wired Headphones</td>\n",
       "    </tr>\n",
       "    <tr>\n",
       "      <th>145</th>\n",
       "      <td>144344</td>\n",
       "      <td>USB-C Charging Cable</td>\n",
       "    </tr>\n",
       "  </tbody>\n",
       "</table>\n",
       "</div>"
      ],
      "text/plain": [
       "    Order ID                   Product\n",
       "69    144271  Lightning Charging Cable\n",
       "70    144271                    iPhone\n",
       "130   144339                    iPhone\n",
       "132   144339          Wired Headphones\n",
       "145   144344      USB-C Charging Cable"
      ]
     },
     "execution_count": 46,
     "metadata": {},
     "output_type": "execute_result"
    }
   ],
   "source": [
    "df2.head()"
   ]
  },
  {
   "cell_type": "code",
   "execution_count": 47,
   "id": "e4a6885b",
   "metadata": {},
   "outputs": [],
   "source": [
    "df2[\"Grouped\"] = df2.groupby(\"Order ID\")[\"Product\"].transform(lambda x : \",\".join(x))"
   ]
  },
  {
   "cell_type": "code",
   "execution_count": 48,
   "id": "9991a846",
   "metadata": {},
   "outputs": [
    {
     "data": {
      "text/html": [
       "<div>\n",
       "<style scoped>\n",
       "    .dataframe tbody tr th:only-of-type {\n",
       "        vertical-align: middle;\n",
       "    }\n",
       "\n",
       "    .dataframe tbody tr th {\n",
       "        vertical-align: top;\n",
       "    }\n",
       "\n",
       "    .dataframe thead th {\n",
       "        text-align: right;\n",
       "    }\n",
       "</style>\n",
       "<table border=\"1\" class=\"dataframe\">\n",
       "  <thead>\n",
       "    <tr style=\"text-align: right;\">\n",
       "      <th></th>\n",
       "      <th>Order ID</th>\n",
       "      <th>Product</th>\n",
       "      <th>Grouped</th>\n",
       "    </tr>\n",
       "  </thead>\n",
       "  <tbody>\n",
       "    <tr>\n",
       "      <th>69</th>\n",
       "      <td>144271</td>\n",
       "      <td>Lightning Charging Cable</td>\n",
       "      <td>Lightning Charging Cable,iPhone</td>\n",
       "    </tr>\n",
       "    <tr>\n",
       "      <th>70</th>\n",
       "      <td>144271</td>\n",
       "      <td>iPhone</td>\n",
       "      <td>Lightning Charging Cable,iPhone</td>\n",
       "    </tr>\n",
       "    <tr>\n",
       "      <th>130</th>\n",
       "      <td>144339</td>\n",
       "      <td>iPhone</td>\n",
       "      <td>iPhone,Wired Headphones</td>\n",
       "    </tr>\n",
       "    <tr>\n",
       "      <th>132</th>\n",
       "      <td>144339</td>\n",
       "      <td>Wired Headphones</td>\n",
       "      <td>iPhone,Wired Headphones</td>\n",
       "    </tr>\n",
       "    <tr>\n",
       "      <th>145</th>\n",
       "      <td>144344</td>\n",
       "      <td>USB-C Charging Cable</td>\n",
       "      <td>USB-C Charging Cable,Google Phone</td>\n",
       "    </tr>\n",
       "    <tr>\n",
       "      <th>...</th>\n",
       "      <td>...</td>\n",
       "      <td>...</td>\n",
       "      <td>...</td>\n",
       "    </tr>\n",
       "    <tr>\n",
       "      <th>185921</th>\n",
       "      <td>311715</td>\n",
       "      <td>Flatscreen TV</td>\n",
       "      <td>Flatscreen TV,AAA Batteries (4-pack)</td>\n",
       "    </tr>\n",
       "    <tr>\n",
       "      <th>185922</th>\n",
       "      <td>311715</td>\n",
       "      <td>AAA Batteries (4-pack)</td>\n",
       "      <td>Flatscreen TV,AAA Batteries (4-pack)</td>\n",
       "    </tr>\n",
       "    <tr>\n",
       "      <th>185925</th>\n",
       "      <td>311697</td>\n",
       "      <td>USB-C Charging Cable</td>\n",
       "      <td>USB-C Charging Cable,Vareebadd Phone</td>\n",
       "    </tr>\n",
       "    <tr>\n",
       "      <th>185926</th>\n",
       "      <td>311697</td>\n",
       "      <td>Vareebadd Phone</td>\n",
       "      <td>USB-C Charging Cable,Vareebadd Phone</td>\n",
       "    </tr>\n",
       "    <tr>\n",
       "      <th>185950</th>\n",
       "      <td>308183</td>\n",
       "      <td>Lightning Charging Cable</td>\n",
       "      <td>iPhone,Lightning Charging Cable</td>\n",
       "    </tr>\n",
       "  </tbody>\n",
       "</table>\n",
       "<p>14649 rows × 3 columns</p>\n",
       "</div>"
      ],
      "text/plain": [
       "       Order ID                   Product  \\\n",
       "69       144271  Lightning Charging Cable   \n",
       "70       144271                    iPhone   \n",
       "130      144339                    iPhone   \n",
       "132      144339          Wired Headphones   \n",
       "145      144344      USB-C Charging Cable   \n",
       "...         ...                       ...   \n",
       "185921   311715             Flatscreen TV   \n",
       "185922   311715    AAA Batteries (4-pack)   \n",
       "185925   311697      USB-C Charging Cable   \n",
       "185926   311697           Vareebadd Phone   \n",
       "185950   308183  Lightning Charging Cable   \n",
       "\n",
       "                                     Grouped  \n",
       "69           Lightning Charging Cable,iPhone  \n",
       "70           Lightning Charging Cable,iPhone  \n",
       "130                  iPhone,Wired Headphones  \n",
       "132                  iPhone,Wired Headphones  \n",
       "145        USB-C Charging Cable,Google Phone  \n",
       "...                                      ...  \n",
       "185921  Flatscreen TV,AAA Batteries (4-pack)  \n",
       "185922  Flatscreen TV,AAA Batteries (4-pack)  \n",
       "185925  USB-C Charging Cable,Vareebadd Phone  \n",
       "185926  USB-C Charging Cable,Vareebadd Phone  \n",
       "185950       iPhone,Lightning Charging Cable  \n",
       "\n",
       "[14649 rows x 3 columns]"
      ]
     },
     "execution_count": 48,
     "metadata": {},
     "output_type": "execute_result"
    }
   ],
   "source": [
    "df2"
   ]
  },
  {
   "cell_type": "code",
   "execution_count": 49,
   "id": "b93e75a0",
   "metadata": {},
   "outputs": [],
   "source": [
    "df2 = df2.drop_duplicates()"
   ]
  },
  {
   "cell_type": "code",
   "execution_count": 50,
   "id": "7bac6f47",
   "metadata": {},
   "outputs": [
    {
     "data": {
      "text/html": [
       "<div>\n",
       "<style scoped>\n",
       "    .dataframe tbody tr th:only-of-type {\n",
       "        vertical-align: middle;\n",
       "    }\n",
       "\n",
       "    .dataframe tbody tr th {\n",
       "        vertical-align: top;\n",
       "    }\n",
       "\n",
       "    .dataframe thead th {\n",
       "        text-align: right;\n",
       "    }\n",
       "</style>\n",
       "<table border=\"1\" class=\"dataframe\">\n",
       "  <thead>\n",
       "    <tr style=\"text-align: right;\">\n",
       "      <th></th>\n",
       "      <th>Order ID</th>\n",
       "      <th>Product</th>\n",
       "      <th>Grouped</th>\n",
       "    </tr>\n",
       "  </thead>\n",
       "  <tbody>\n",
       "    <tr>\n",
       "      <th>69</th>\n",
       "      <td>144271</td>\n",
       "      <td>Lightning Charging Cable</td>\n",
       "      <td>Lightning Charging Cable,iPhone</td>\n",
       "    </tr>\n",
       "    <tr>\n",
       "      <th>70</th>\n",
       "      <td>144271</td>\n",
       "      <td>iPhone</td>\n",
       "      <td>Lightning Charging Cable,iPhone</td>\n",
       "    </tr>\n",
       "    <tr>\n",
       "      <th>130</th>\n",
       "      <td>144339</td>\n",
       "      <td>iPhone</td>\n",
       "      <td>iPhone,Wired Headphones</td>\n",
       "    </tr>\n",
       "    <tr>\n",
       "      <th>132</th>\n",
       "      <td>144339</td>\n",
       "      <td>Wired Headphones</td>\n",
       "      <td>iPhone,Wired Headphones</td>\n",
       "    </tr>\n",
       "    <tr>\n",
       "      <th>145</th>\n",
       "      <td>144344</td>\n",
       "      <td>USB-C Charging Cable</td>\n",
       "      <td>USB-C Charging Cable,Google Phone</td>\n",
       "    </tr>\n",
       "    <tr>\n",
       "      <th>...</th>\n",
       "      <td>...</td>\n",
       "      <td>...</td>\n",
       "      <td>...</td>\n",
       "    </tr>\n",
       "    <tr>\n",
       "      <th>185921</th>\n",
       "      <td>311715</td>\n",
       "      <td>Flatscreen TV</td>\n",
       "      <td>Flatscreen TV,AAA Batteries (4-pack)</td>\n",
       "    </tr>\n",
       "    <tr>\n",
       "      <th>185922</th>\n",
       "      <td>311715</td>\n",
       "      <td>AAA Batteries (4-pack)</td>\n",
       "      <td>Flatscreen TV,AAA Batteries (4-pack)</td>\n",
       "    </tr>\n",
       "    <tr>\n",
       "      <th>185925</th>\n",
       "      <td>311697</td>\n",
       "      <td>USB-C Charging Cable</td>\n",
       "      <td>USB-C Charging Cable,Vareebadd Phone</td>\n",
       "    </tr>\n",
       "    <tr>\n",
       "      <th>185926</th>\n",
       "      <td>311697</td>\n",
       "      <td>Vareebadd Phone</td>\n",
       "      <td>USB-C Charging Cable,Vareebadd Phone</td>\n",
       "    </tr>\n",
       "    <tr>\n",
       "      <th>185950</th>\n",
       "      <td>308183</td>\n",
       "      <td>Lightning Charging Cable</td>\n",
       "      <td>iPhone,Lightning Charging Cable</td>\n",
       "    </tr>\n",
       "  </tbody>\n",
       "</table>\n",
       "<p>14338 rows × 3 columns</p>\n",
       "</div>"
      ],
      "text/plain": [
       "       Order ID                   Product  \\\n",
       "69       144271  Lightning Charging Cable   \n",
       "70       144271                    iPhone   \n",
       "130      144339                    iPhone   \n",
       "132      144339          Wired Headphones   \n",
       "145      144344      USB-C Charging Cable   \n",
       "...         ...                       ...   \n",
       "185921   311715             Flatscreen TV   \n",
       "185922   311715    AAA Batteries (4-pack)   \n",
       "185925   311697      USB-C Charging Cable   \n",
       "185926   311697           Vareebadd Phone   \n",
       "185950   308183  Lightning Charging Cable   \n",
       "\n",
       "                                     Grouped  \n",
       "69           Lightning Charging Cable,iPhone  \n",
       "70           Lightning Charging Cable,iPhone  \n",
       "130                  iPhone,Wired Headphones  \n",
       "132                  iPhone,Wired Headphones  \n",
       "145        USB-C Charging Cable,Google Phone  \n",
       "...                                      ...  \n",
       "185921  Flatscreen TV,AAA Batteries (4-pack)  \n",
       "185922  Flatscreen TV,AAA Batteries (4-pack)  \n",
       "185925  USB-C Charging Cable,Vareebadd Phone  \n",
       "185926  USB-C Charging Cable,Vareebadd Phone  \n",
       "185950       iPhone,Lightning Charging Cable  \n",
       "\n",
       "[14338 rows x 3 columns]"
      ]
     },
     "execution_count": 50,
     "metadata": {},
     "output_type": "execute_result"
    }
   ],
   "source": [
    "df2"
   ]
  },
  {
   "cell_type": "code",
   "execution_count": 51,
   "id": "32c36be1",
   "metadata": {},
   "outputs": [],
   "source": [
    "from itertools import combinations\n",
    "from collections import Counter"
   ]
  },
  {
   "cell_type": "code",
   "execution_count": 52,
   "id": "10aa0648",
   "metadata": {},
   "outputs": [],
   "source": [
    "# exmaple \n",
    "count = 0\n",
    "counter = Counter()\n",
    "for comb in df2[\"Grouped\"]:\n",
    "    if count<=5:\n",
    "        result = combinations(comb.split(\",\"),2)\n",
    "        counter.update(result)\n",
    "        count+=1"
   ]
  },
  {
   "cell_type": "code",
   "execution_count": 53,
   "id": "1db8123c",
   "metadata": {},
   "outputs": [
    {
     "data": {
      "text/plain": [
       "Counter({('Lightning Charging Cable', 'iPhone'): 2,\n",
       "         ('iPhone', 'Wired Headphones'): 2,\n",
       "         ('USB-C Charging Cable', 'Google Phone'): 2})"
      ]
     },
     "execution_count": 53,
     "metadata": {},
     "output_type": "execute_result"
    }
   ],
   "source": [
    "counter"
   ]
  },
  {
   "cell_type": "code",
   "execution_count": 54,
   "id": "ebf8092d",
   "metadata": {},
   "outputs": [],
   "source": [
    "combination_counter = Counter()\n",
    "for comb in df2[\"Grouped\"]:\n",
    "    combination_counter.update(combinations(comb.split(\",\"),2))   "
   ]
  },
  {
   "cell_type": "code",
   "execution_count": 55,
   "id": "3bf902f1",
   "metadata": {},
   "outputs": [],
   "source": [
    "products = []\n",
    "values = []\n",
    "for product,noOfTimes in combination_counter.most_common(15):\n",
    "    products.append(product)\n",
    "    values.append(noOfTimes)"
   ]
  },
  {
   "cell_type": "code",
   "execution_count": 56,
   "id": "02c1a541",
   "metadata": {},
   "outputs": [
    {
     "data": {
      "text/plain": [
       "[1120, 1112, 1041, 1015, 558, 533, 462, 434, 430, 416, 409, 358, 294, 263, 256]"
      ]
     },
     "execution_count": 56,
     "metadata": {},
     "output_type": "execute_result"
    }
   ],
   "source": [
    "values"
   ]
  },
  {
   "cell_type": "code",
   "execution_count": 57,
   "id": "6ce11047",
   "metadata": {},
   "outputs": [],
   "source": [
    "product_pair = []\n",
    "for product1,product2 in products:\n",
    "    product_pair.append((f\"{product1},{product2}\"))"
   ]
  },
  {
   "cell_type": "code",
   "execution_count": 58,
   "id": "b41e52c8",
   "metadata": {},
   "outputs": [
    {
     "data": {
      "text/plain": [
       "['USB-C Charging Cable,Google Phone',\n",
       " 'Lightning Charging Cable,iPhone',\n",
       " 'iPhone,Lightning Charging Cable',\n",
       " 'Google Phone,USB-C Charging Cable',\n",
       " 'Wired Headphones,iPhone',\n",
       " 'Wired Headphones,Google Phone',\n",
       " 'iPhone,Wired Headphones',\n",
       " 'Google Phone,Wired Headphones',\n",
       " 'USB-C Charging Cable,Vareebadd Phone',\n",
       " 'iPhone,Apple Airpods Headphones',\n",
       " 'Apple Airpods Headphones,iPhone',\n",
       " 'Vareebadd Phone,USB-C Charging Cable',\n",
       " 'Wired Headphones,USB-C Charging Cable',\n",
       " 'Bose SoundSport Headphones,Google Phone',\n",
       " 'Google Phone,Bose SoundSport Headphones']"
      ]
     },
     "execution_count": 58,
     "metadata": {},
     "output_type": "execute_result"
    }
   ],
   "source": [
    "product_pair"
   ]
  },
  {
   "cell_type": "code",
   "execution_count": 59,
   "id": "247c9885",
   "metadata": {},
   "outputs": [
    {
     "data": {
      "image/png": "[encoded data removed]",
      "text/plain": [
       "<Figure size 864x864 with 1 Axes>"
      ]
     },
     "metadata": {},
     "output_type": "display_data"
    }
   ],
   "source": [
    "plt.figure(figsize=(12,12))\n",
    "plt.style.use(\"fivethirtyeight\")\n",
    "plt.bar(product_pair,values)\n",
    "plt.xlabel(\"Products\")\n",
    "plt.ylabel(\"No of Products Sold\")\n",
    "plt.title(\"Top 15 results\")\n",
    "plt.xticks(product_pair,rotation=90,size=10)\n",
    "plt.tight_layout()\n",
    "plt.show()"
   ]
  },
  {
   "cell_type": "markdown",
   "id": "4b027ba6",
   "metadata": {},
   "source": [
    "## yes we did ...."
   ]
  }
 ],
 "metadata": {
  "kernelspec": {
   "display_name": "Python 3 (ipykernel)",
   "language": "python",
   "name": "python3"
  },
  "language_info": {
   "codemirror_mode": {
    "name": "ipython",
    "version": 3
   },
   "file_extension": ".py",
   "mimetype": "text/x-python",
   "name": "python",
   "nbconvert_exporter": "python",
   "pygments_lexer": "ipython3",
   "version": "3.9.7"
  }
 },
 "nbformat": 4,
 "nbformat_minor": 5
}
